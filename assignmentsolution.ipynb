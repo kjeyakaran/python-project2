{
 "cells": [
  {
   "cell_type": "code",
   "execution_count": 14,
   "id": "b01cc5cd-2c50-4d7e-8b6f-8f87aa0870a6",
   "metadata": {},
   "outputs": [
    {
     "name": "stdout",
     "output_type": "stream",
     "text": [
      "Welcome to the BMI Calculator!\n"
     ]
    },
    {
     "name": "stdin",
     "output_type": "stream",
     "text": [
      "Enter your weight in kilograms (kg):  95\n",
      "Enter your height in meters (m):  1.65\n"
     ]
    },
    {
     "name": "stdout",
     "output_type": "stream",
     "text": [
      "\n",
      "Your BMI is: 34.89\n",
      "Based on your BMI, you are classified as: Obesity\n",
      "It's important to work with a health care professional to manage weight\n"
     ]
    }
   ],
   "source": [
    "# 1. Develop a Python program to create a Body Mass Index (BMI) Calculator\n",
    "# Python's simple syntax, built-in mathematical operators, dynamic typing, and readability make it ideal for creating a BMI calculator.\n",
    "def calculate_bmi(weight, height):\n",
    "     return round(weight / (height ** 2), 2)\n",
    "\n",
    "def classify_bmi(bmi):\n",
    "    if bmi < 18.5:\n",
    "        return \"Underweight\"\n",
    "    elif 18.5 <= bmi < 24.9:\n",
    "        return \"Normal weight\"\n",
    "    elif 25 <= bmi < 29.9:\n",
    "        return \"Overweight\"\n",
    "    else:\n",
    "        return \"Obesity\"\n",
    "\n",
    "def main():\n",
    "    print(\"Welcome to the BMI Calculator!\")\n",
    " \n",
    "    # Taking user input for weight and height\n",
    "    try:\n",
    "        weight = float(input(\"Enter your weight in kilograms (kg): \"))\n",
    "        height = float(input(\"Enter your height in meters (m): \"))\n",
    "    except:\n",
    "        print(\" The input should be float\")\n",
    "    if weight<0:\n",
    "            print(\"The weight should be a positive number\")\n",
    "    if height<0:\n",
    "            print(\"The height should be a positive number\")\n",
    "    \n",
    "    \n",
    "    # Calculate the BMI and get the classification\n",
    "    if weight>0 and height>0:\n",
    "        bmi = calculate_bmi(weight, height)\n",
    "        category = classify_bmi(bmi)\n",
    "        \n",
    "    # Display the results\n",
    "        print(f\"\\nYour BMI is: {bmi}\")\n",
    "        print(f\"Based on your BMI, you are classified as: {category}\")\n",
    "        if category == \"Normal weight\":\n",
    "            print(\"Great Job! Maintain your current lifestyle for good health\")\n",
    "        elif category == \"Underweight\":\n",
    "            print(\"Consider consulting a nutritionist to reach a healthier weight\")\n",
    "        elif category == \"Overweight\":\n",
    "            print(\"Consider consulting a nutritionist to reach a healthier weight\")\n",
    "        elif category == \"Obesity\":\n",
    "            print(\"It's important to work with a health care professional to manage weight\")\n",
    "# Run the main program\n",
    "if __name__ == \"__main__\":\n",
    "    main()\n",
    "\n"
   ]
  },
  {
   "cell_type": "code",
   "execution_count": null,
   "id": "30ae6e01-11c0-427c-939f-e671966ce694",
   "metadata": {},
   "outputs": [],
   "source": [
    "Welcome to the BMI Calculator!\n",
    "Enter your weight in kilograms (kg):  70\n",
    "Enter your height in meters (m):  1.75\n",
    "\n",
    "Your BMI is: 22.86\n",
    "Based on your BMI, you are classified as: Normal weight\n",
    "Great Job! Maintain your current lifestyle for good health"
   ]
  },
  {
   "cell_type": "code",
   "execution_count": null,
   "id": "94d88b80-deae-4c1b-98ed-9851f23b311a",
   "metadata": {},
   "outputs": [],
   "source": [
    "Welcome to the BMI Calculator!\n",
    "Enter your weight in kilograms (kg):  50\n",
    "Enter your height in meters (m):  1.75\n",
    "\n",
    "Your BMI is: 16.33\n",
    "Based on your BMI, you are classified as: Underweight\n",
    "Consider consulting a nutritionist to reach a healthier weight"
   ]
  },
  {
   "cell_type": "code",
   "execution_count": null,
   "id": "be0cb20a-d3e9-4bf1-8959-61572684e1b9",
   "metadata": {},
   "outputs": [],
   "source": [
    "Welcome to the BMI Calculator!\n",
    "Enter your weight in kilograms (kg):  50\n",
    "Enter your height in meters (m):  1.75\n",
    "\n",
    "Your BMI is: 16.33\n",
    "Based on your BMI, you are classified as: Underweight\n",
    "Consider consulting a nutritionist to reach a healthier weight"
   ]
  },
  {
   "cell_type": "code",
   "execution_count": null,
   "id": "31f26093-dcb8-4a9c-b39b-ec3a66a5bea5",
   "metadata": {},
   "outputs": [],
   "source": [
    "Welcome to the BMI Calculator!\n",
    "Enter your weight in kilograms (kg):  -70\n",
    "Enter your height in meters (m):  abc\n",
    " The input should be float\n",
    "The weight should be a positive number"
   ]
  },
  {
   "cell_type": "code",
   "execution_count": 81,
   "id": "f94b1801-7bbc-4ec2-bc36-b8b5db06ef41",
   "metadata": {},
   "outputs": [
    {
     "name": "stdin",
     "output_type": "stream",
     "text": [
      "Enter the total rooms 15\n"
     ]
    },
    {
     "ename": "TypeError",
     "evalue": "'<' not supported between instances of 'int' and 'str'",
     "output_type": "error",
     "traceback": [
      "\u001b[1;31m---------------------------------------------------------------------------\u001b[0m",
      "\u001b[1;31mTypeError\u001b[0m                                 Traceback (most recent call last)",
      "Cell \u001b[1;32mIn[81], line 35\u001b[0m\n\u001b[0;32m     32\u001b[0m     hotel\u001b[38;5;241m.\u001b[39mcancel_booking()\n\u001b[0;32m     34\u001b[0m \u001b[38;5;28;01mif\u001b[39;00m \u001b[38;5;18m__name__\u001b[39m \u001b[38;5;241m==\u001b[39m \u001b[38;5;124m\"\u001b[39m\u001b[38;5;124m__main__\u001b[39m\u001b[38;5;124m\"\u001b[39m:\n\u001b[1;32m---> 35\u001b[0m     main()\n",
      "Cell \u001b[1;32mIn[81], line 30\u001b[0m, in \u001b[0;36mmain\u001b[1;34m()\u001b[0m\n\u001b[0;32m     28\u001b[0m total_rooms \u001b[38;5;241m=\u001b[39m \u001b[38;5;28minput\u001b[39m(\u001b[38;5;124m\"\u001b[39m\u001b[38;5;124mEnter the total rooms\u001b[39m\u001b[38;5;124m\"\u001b[39m)\n\u001b[0;32m     29\u001b[0m hotel \u001b[38;5;241m=\u001b[39m Hotel(total_rooms)\n\u001b[1;32m---> 30\u001b[0m hotel\u001b[38;5;241m.\u001b[39mbook_room()\n\u001b[0;32m     31\u001b[0m hotel\u001b[38;5;241m.\u001b[39mcheck_availability()\n\u001b[0;32m     32\u001b[0m hotel\u001b[38;5;241m.\u001b[39mcancel_booking()\n",
      "Cell \u001b[1;32mIn[81], line 11\u001b[0m, in \u001b[0;36mHotel.book_room\u001b[1;34m(self)\u001b[0m\n\u001b[0;32m     10\u001b[0m \u001b[38;5;28;01mdef\u001b[39;00m \u001b[38;5;21mbook_room\u001b[39m(\u001b[38;5;28mself\u001b[39m):\n\u001b[1;32m---> 11\u001b[0m     \u001b[38;5;28;01mif\u001b[39;00m \u001b[38;5;28mself\u001b[39m\u001b[38;5;241m.\u001b[39mbooked_rooms \u001b[38;5;241m<\u001b[39m \u001b[38;5;28mself\u001b[39m\u001b[38;5;241m.\u001b[39mtotal_rooms:\n\u001b[0;32m     12\u001b[0m         \u001b[38;5;28mself\u001b[39m\u001b[38;5;241m.\u001b[39mbooked_rooms \u001b[38;5;241m+\u001b[39m\u001b[38;5;241m=\u001b[39m \u001b[38;5;241m1\u001b[39m\n\u001b[0;32m     13\u001b[0m         \u001b[38;5;28mprint\u001b[39m(\u001b[38;5;124mf\u001b[39m\u001b[38;5;124m\"\u001b[39m\u001b[38;5;124mRoom booked! Available rooms: \u001b[39m\u001b[38;5;132;01m{\u001b[39;00m\u001b[38;5;28mself\u001b[39m\u001b[38;5;241m.\u001b[39mtotal_rooms\u001b[38;5;250m \u001b[39m\u001b[38;5;241m-\u001b[39m\u001b[38;5;250m \u001b[39m\u001b[38;5;28mself\u001b[39m\u001b[38;5;241m.\u001b[39mbooked_rooms\u001b[38;5;132;01m}\u001b[39;00m\u001b[38;5;124m\"\u001b[39m)\n",
      "\u001b[1;31mTypeError\u001b[0m: '<' not supported between instances of 'int' and 'str'"
     ]
    }
   ],
   "source": [
    "#2. Develop a hotel booking system that allows users to book rooms, cancel reservations, and view available rooms. \n",
    "#Create a Hotel class to manage room availability and booking status. Use functions to handle booking operations.\n",
    "# Hotel booking system application makes use of the concept of Object oriented programming, functions, control structure, dynamically typed and interactivity features of Python\n",
    "\n",
    "class Hotel:\n",
    "    def __init__(self, total_rooms):\n",
    "        self.total_rooms = total_rooms\n",
    "        self.booked_rooms = 0\n",
    "\n",
    "    def book_room(self):\n",
    "        if self.booked_rooms < self.total_rooms:\n",
    "            self.booked_rooms += 1\n",
    "            print(f\"Room booked! Available rooms: {self.total_rooms - self.booked_rooms}\")\n",
    "        else:\n",
    "            print(\"No rooms available!\")\n",
    "\n",
    "    def cancel_booking(self):\n",
    "        if self.booked_rooms > 0:\n",
    "            self.booked_rooms -= 1\n",
    "            print(f\"Booking canceled. Available rooms: {self.total_rooms - self.booked_rooms}\")\n",
    "        else:\n",
    "            print(\"No bookings to cancel.\")\n",
    "\n",
    "    def check_availability(self):\n",
    "        print(f\"Available rooms: {self.total_rooms - self.booked_rooms}\")\n",
    "\n",
    "def main():\n",
    "    total_rooms = input(\"Enter the total rooms\")\n",
    "    hotel = Hotel(total_rooms)\n",
    "    hotel.book_room()\n",
    "    hotel.check_availability()\n",
    "    hotel.cancel_booking()\n",
    "\n",
    "if __name__ == \"__main__\":\n",
    "    main()\n"
   ]
  },
  {
   "cell_type": "code",
   "execution_count": 18,
   "id": "2775695a-a765-462f-bf9b-695579b1848f",
   "metadata": {},
   "outputs": [
    {
     "name": "stdin",
     "output_type": "stream",
     "text": [
      "Enter student name:  Alex\n",
      "Enter roll number:  13456\n",
      "Enter marks:  76\n"
     ]
    },
    {
     "name": "stdout",
     "output_type": "stream",
     "text": [
      "Student: Alex | Roll No: 13456 | Grade: C\n"
     ]
    }
   ],
   "source": [
    "# 3. Design a Python program that manages student grades. Create a Student class to store the student’s name, roll number, and marks. Calculate and display the grade based on the following:\n",
    "# Marks >= 90: Grade A\n",
    "# Marks >= 80: Grade B\n",
    "# Marks >= 70: Grade C\n",
    "# Marks < 70: Fail\n",
    "# Student grading system application makes use of the concept of Object oriented programming, functions, control structure, dynamically typed and interactivity features of Python\n",
    "\n",
    "class Student:\n",
    "    def __init__(self, name, roll_number, marks):\n",
    "        self.name = name\n",
    "        self.roll_number = roll_number\n",
    "        self.marks = marks\n",
    "\n",
    "    def calculate_grade(self):\n",
    "        if self.marks >= 90:\n",
    "            return \"A\"\n",
    "        elif self.marks >= 80:\n",
    "            return \"B\"\n",
    "        elif self.marks >= 70:\n",
    "            return \"C\"\n",
    "        else:\n",
    "            return \"Fail\"\n",
    "\n",
    "    def display_info(self):\n",
    "        grade = self.calculate_grade()\n",
    "        print(f\"Student: {self.name} | Roll No: {self.roll_number} | Grade: {grade}\")\n",
    "\n",
    "def main():\n",
    "    name = input(\"Enter student name: \")\n",
    "    roll_number = input(\"Enter roll number: \")\n",
    "    marks = float(input(\"Enter marks: \"))\n",
    "    \n",
    "    student = Student(name, roll_number, marks)\n",
    "    student.display_info()\n",
    "\n",
    "if __name__ == \"__main__\":\n",
    "    main()\n"
   ]
  },
  {
   "cell_type": "code",
   "execution_count": 24,
   "id": "bbb1dffa-70d7-4f8f-b0fb-2195164dfca0",
   "metadata": {},
   "outputs": [
    {
     "name": "stdin",
     "output_type": "stream",
     "text": [
      "Enter the number of products 3\n"
     ]
    },
    {
     "name": "stdout",
     "output_type": "stream",
     "text": [
      "\n",
      "Enter details for Product 1:\n"
     ]
    },
    {
     "name": "stdin",
     "output_type": "stream",
     "text": [
      "Product Name:  Soap\n",
      "Price per unit:  20\n",
      "Quantity:  4\n"
     ]
    },
    {
     "name": "stdout",
     "output_type": "stream",
     "text": [
      "Soap Cost: 80.00\n",
      "\n",
      "Enter details for Product 2:\n"
     ]
    },
    {
     "name": "stdin",
     "output_type": "stream",
     "text": [
      "Product Name:  Rice\n",
      "Price per unit:  50\n",
      "Quantity:  3\n"
     ]
    },
    {
     "name": "stdout",
     "output_type": "stream",
     "text": [
      "Rice Cost: 150.00\n",
      "\n",
      "Enter details for Product 3:\n"
     ]
    },
    {
     "name": "stdin",
     "output_type": "stream",
     "text": [
      "Product Name:  Shampoo\n",
      "Price per unit:  35\n",
      "Quantity:  6\n"
     ]
    },
    {
     "name": "stdout",
     "output_type": "stream",
     "text": [
      "Shampoo Cost: 210.00\n",
      "\n",
      "--- Invoice Summary ---\n",
      "Total Cost (before tax): 440.00\n",
      "Total Tax: 22.00\n",
      "Grand Total: 462.00\n"
     ]
    }
   ],
   "source": [
    "#4. Create a Python program that prompts the user for the price and quantity of three different products and calculates the total invoice amount, including any applicable taxes. The program should also display a detailed invoice summary with individual product costs, total cost before tax, total tax, and the grand total.\n",
    "# Product Bill calculator application makes use of the features of Python like functions, control structures, operators and dynamically typing.\n",
    "\n",
    "# Constants for tax rate\n",
    "TAX_RATE = 0.05  # 5% tax rate\n",
    "\n",
    "# Function to calculate the tax\n",
    "def calculate_tax(amount):\n",
    "    return amount * TAX_RATE\n",
    "\n",
    "def main():\n",
    "    # Initialize total cost before tax\n",
    "    total_before_tax = 0\n",
    "    # enter the number of products\n",
    "    n=int(input(\"Enter the number of products\"))\n",
    "    # Gather input for three products and calculate costs\n",
    "    for i in range(1, n+1):\n",
    "        print(f\"\\nEnter details for Product {i}:\")\n",
    "        name = input(\"Product Name: \")\n",
    "        price = float(input(\"Price per unit: \"))\n",
    "        quantity = int(input(\"Quantity: \"))\n",
    "        total = price * quantity\n",
    "        total_before_tax += total\n",
    "\n",
    "        # Display product cost\n",
    "        print(f\"{name} Cost: {total:.2f}\")\n",
    "\n",
    "    # Calculate tax and grand total\n",
    "    total_tax = calculate_tax(total_before_tax)\n",
    "    grand_total = total_before_tax + total_tax\n",
    "\n",
    "    # Display the invoice summary\n",
    "    print(\"\\n--- Invoice Summary ---\")\n",
    "    print(f\"Total Cost (before tax): {total_before_tax:.2f}\")\n",
    "    print(f\"Total Tax: {total_tax:.2f}\")\n",
    "    print(f\"Grand Total: {grand_total:.2f}\")\n",
    "\n",
    "# Run the program\n",
    "if __name__ == \"__main__\":\n",
    "    main()"
   ]
  },
  {
   "cell_type": "code",
   "execution_count": 49,
   "id": "d3f28885-8f03-4ff0-b1f7-fb2f46d14efb",
   "metadata": {},
   "outputs": [
    {
     "name": "stdin",
     "output_type": "stream",
     "text": [
      "Would you like to (1) Borrow or (2) Return a book? (Enter (3) to quit):  1\n",
      " Please enter the title of the book you want to borrow Harry Potter\n",
      "Please enter the author of the book you want to borrow Rowling\n"
     ]
    },
    {
     "name": "stdout",
     "output_type": "stream",
     "text": [
      "Checking availability for 'Harry Potter'\n",
      "The book 'Harry Potter' is available! You have successfully borrowed it.\n"
     ]
    },
    {
     "name": "stdin",
     "output_type": "stream",
     "text": [
      "Would you like to (1) Borrow or (2) Return a book? (Enter (3) to quit):  2\n",
      "Please enter the title of the book you want to return harry Potter\n",
      "Please enter the author of the book you want to borrow Rowling\n"
     ]
    },
    {
     "name": "stdout",
     "output_type": "stream",
     "text": [
      "Checking availability for 'harry Potter'\n",
      "You have successfully returned 'harry Potter'. Thank you!\n"
     ]
    },
    {
     "name": "stdin",
     "output_type": "stream",
     "text": [
      "Would you like to (1) Borrow or (2) Return a book? (Enter (3) to quit):  3\n"
     ]
    }
   ],
   "source": [
    "#5. Implement a library management system where users can borrow books. Check if a book is available before allowing the user to borrow it.\n",
    "# Library management system application makes use of the concept of Object oriented programming, functions, control structure, dynamically typed and interactivity features of Python\n",
    "\n",
    "# Library Management System\n",
    "class Book:\n",
    "    def __init__(self, title, author, copies):\n",
    "        self.title = title\n",
    "        self.author = author\n",
    "        self.copies = copies\n",
    "\n",
    "    def borrow(self,title):\n",
    "        print(f\"Checking availability for '{self.title}'\")\n",
    "        if self.copies > 0:\n",
    "            self.copies -= 1\n",
    "            print(f\"The book '{self.title}' is available! You have successfully borrowed it.\")\n",
    "        else:\n",
    "            print(f\"'{self.title}' is currently not available.\")\n",
    "\n",
    "    def return_book(self,title):\n",
    "        print(f\"Checking availability for '{self.title}'\")\n",
    "        self.copies += 1\n",
    "        print(f\"You have successfully returned '{self.title}'. Thank you!\")\n",
    "\n",
    "def main():\n",
    "    while(True):\n",
    "        action = input(\"Would you like to (1) Borrow or (2) Return a book? (Enter (3) to quit): \")\n",
    "        if action == '1':\n",
    "            title = input(\" Please enter the title of the book you want to borrow\")\n",
    "            author = input (\"Please enter the author of the book you want to borrow\")\n",
    "            book1= Book (title,author,2)\n",
    "            book1.borrow(title)\n",
    "        elif action == '2':\n",
    "            title = input(\"Please enter the title of the book you want to return\")\n",
    "            author = input (\"Please enter the author of the book you want to borrow\")\n",
    "            book1= Book (title,author,1)\n",
    "            book1.return_book(title)\n",
    "        elif action == '3':\n",
    "            break\n",
    "        else:\n",
    "            print(\"Invalid option.\")\n",
    "\n",
    "if __name__ == \"__main__\":\n",
    "    main()"
   ]
  },
  {
   "cell_type": "code",
   "execution_count": 51,
   "id": "afbd6e63-edf6-499c-89f4-5d4b93c50be7",
   "metadata": {},
   "outputs": [
    {
     "name": "stdin",
     "output_type": "stream",
     "text": [
      "Enter total bill amount:  1565\n",
      "Enter number of people:  5\n"
     ]
    },
    {
     "name": "stdout",
     "output_type": "stream",
     "text": [
      "Each person pays: 313.00\n"
     ]
    }
   ],
   "source": [
    "#6. Write a program to split the restaurant bill among friends. The user should enter the total bill amount and number of people. The program should calculate the amount each person has to pay and handle cases where the total isn’t evenly divisible.\n",
    "# The restaurnat bill splitter application makes use of the Python features like function, operators, dynmaical typing and control structures\n",
    "\n",
    "def split_bill(total_amount, num_people):\n",
    "    try:\n",
    "        amount_per_person = total_amount / num_people\n",
    "        print(f\"Each person pays: {amount_per_person:.2f}\")\n",
    "    except ZeroDivisionError:\n",
    "        print(\"Number of people cannot be zero.\")\n",
    "\n",
    "def main():\n",
    "    total_amount = float(input(\"Enter total bill amount: \"))\n",
    "    num_people = int(input(\"Enter number of people: \"))\n",
    "    split_bill(total_amount, num_people)\n",
    "\n",
    "if __name__ == \"__main__\":\n",
    "    main()\n"
   ]
  },
  {
   "cell_type": "code",
   "execution_count": 59,
   "id": "cbcf6222-1e43-4379-9e18-dd3ac32bed27",
   "metadata": {},
   "outputs": [
    {
     "name": "stdin",
     "output_type": "stream",
     "text": [
      "Enter your annual income:  35000\n",
      "Enter your credit score:  680\n"
     ]
    },
    {
     "name": "stdout",
     "output_type": "stream",
     "text": [
      "You are not eligible for a loan.\n"
     ]
    }
   ],
   "source": [
    "#7. Design a program that checks if a user is eligible for a loan based on their income and credit score. Use functions to modularize the logic and ensure input validation.\n",
    "# The loan eligibility application makes use of the Python features like function, operators, dynmaical typing and control structures.\n",
    "\n",
    "def check_loan_eligibility(income, credit_score):\n",
    "    if income >= 30000 and credit_score >= 700:\n",
    "        print( \"You are eligible for a loan.\")\n",
    "    else:\n",
    "        print( \"You are not eligible for a loan.\")\n",
    "\n",
    "def main():\n",
    "    income = int(input(\"Enter your annual income: \"))\n",
    "    credit_score = int(input(\"Enter your credit score: \"))\n",
    "    check_loan_eligibility(income, credit_score)\n",
    "\n",
    "if __name__ == \"__main__\":\n",
    "    main()\n",
    "\n"
   ]
  },
  {
   "cell_type": "code",
   "execution_count": null,
   "id": "73d45a67-0076-4771-bfab-99fe867ec462",
   "metadata": {},
   "outputs": [],
   "source": [
    "Enter your annual income:  45000\n",
    "Enter your credit score:  750\n",
    "You are eligible for a loan.\n"
   ]
  },
  {
   "cell_type": "code",
   "execution_count": null,
   "id": "3ff87283-6340-4f76-bdc4-feb1c4e5814c",
   "metadata": {},
   "outputs": [],
   "source": [
    "Enter your annual income:  15000\n",
    "Enter your credit score:  450\n",
    "You are not eligible for a loan.\n"
   ]
  },
  {
   "cell_type": "code",
   "execution_count": 61,
   "id": "29bd83c1-eaf5-4582-9bb6-a42a9add2678",
   "metadata": {},
   "outputs": [
    {
     "name": "stdout",
     "output_type": "stream",
     "text": [
      "\n",
      "1. Create Account\n",
      "2. Deposit\n",
      "3. Withdraw\n",
      "4. View Account Info\n",
      "5. Exit\n"
     ]
    },
    {
     "name": "stdin",
     "output_type": "stream",
     "text": [
      "Enter your choice:  1\n",
      "Enter account number:  123456\n",
      "Enter account holder's name:  Mary\n"
     ]
    },
    {
     "name": "stdout",
     "output_type": "stream",
     "text": [
      "Account created successfully!\n",
      "\n",
      "1. Create Account\n",
      "2. Deposit\n",
      "3. Withdraw\n",
      "4. View Account Info\n",
      "5. Exit\n"
     ]
    },
    {
     "name": "stdin",
     "output_type": "stream",
     "text": [
      "Enter your choice:  2\n",
      "Enter amount to deposit:  1000\n"
     ]
    },
    {
     "name": "stdout",
     "output_type": "stream",
     "text": [
      "Deposit successful! Current Balance: 1000.0\n",
      "\n",
      "1. Create Account\n",
      "2. Deposit\n",
      "3. Withdraw\n",
      "4. View Account Info\n",
      "5. Exit\n"
     ]
    },
    {
     "name": "stdin",
     "output_type": "stream",
     "text": [
      "Enter your choice:  3\n",
      "Enter amount to withdraw:  300\n"
     ]
    },
    {
     "name": "stdout",
     "output_type": "stream",
     "text": [
      "Withdrawal successful! Remaining Balance: 700.0\n",
      "\n",
      "1. Create Account\n",
      "2. Deposit\n",
      "3. Withdraw\n",
      "4. View Account Info\n",
      "5. Exit\n"
     ]
    },
    {
     "name": "stdin",
     "output_type": "stream",
     "text": [
      "Enter your choice:  4\n"
     ]
    },
    {
     "name": "stdout",
     "output_type": "stream",
     "text": [
      "Account Number: 123456\n",
      "Account Holder: Mary\n",
      "Current Balance: 700.0\n",
      "\n",
      "1. Create Account\n",
      "2. Deposit\n",
      "3. Withdraw\n",
      "4. View Account Info\n",
      "5. Exit\n"
     ]
    },
    {
     "name": "stdin",
     "output_type": "stream",
     "text": [
      "Enter your choice:  5\n"
     ]
    },
    {
     "name": "stdout",
     "output_type": "stream",
     "text": [
      "Thank you for using the banking system!\n"
     ]
    }
   ],
   "source": [
    "#8. Create a banking application that allows users to create accounts, deposit money, withdraw money, and view account details. Each user will have an account with attributes like account number, name, and balance. Implement basic features using OOP principles like encapsulation and functions for modularity.\n",
    "# Banking application makes use of the concept of Object oriented programming, functions, control structure, dynamically typed and interactivity features of Python\n",
    "\n",
    "class BankAccount:\n",
    "    def __init__(self, account_number, name):\n",
    "        self.account_number = account_number\n",
    "        self.name = name\n",
    "        self.balance = 0.0\n",
    "\n",
    "    def deposit(self, amount):\n",
    "        if amount > 0:\n",
    "            self.balance += amount\n",
    "            print(f\"Deposit successful! Current Balance: {self.balance}\")\n",
    "        else:\n",
    "            print(\"Enter a valid amount.\")\n",
    "\n",
    "    def withdraw(self, amount):\n",
    "        if 0 < amount <= self.balance:\n",
    "            self.balance -= amount\n",
    "            print(f\"Withdrawal successful! Remaining Balance: {self.balance}\")\n",
    "        else:\n",
    "            print(\"Insufficient balance or invalid amount.\")\n",
    "\n",
    "    def display_account_info(self):\n",
    "        print(f\"Account Number: {self.account_number}\")\n",
    "        print(f\"Account Holder: {self.name}\")\n",
    "        print(f\"Current Balance: {self.balance}\")\n",
    "\n",
    "def main():\n",
    "    account = None\n",
    "    while True:\n",
    "        print(\"\\n1. Create Account\\n2. Deposit\\n3. Withdraw\\n4. View Account Info\\n5. Exit\")\n",
    "        choice = input(\"Enter your choice: \")\n",
    "\n",
    "        if choice == '1':\n",
    "            acc_num = input(\"Enter account number: \")\n",
    "            name = input(\"Enter account holder's name: \")\n",
    "            account = BankAccount(acc_num, name)\n",
    "            print(\"Account created successfully!\")\n",
    "\n",
    "        elif choice == '2' and account:\n",
    "            amount = float(input(\"Enter amount to deposit: \"))\n",
    "            account.deposit(amount)\n",
    "\n",
    "        elif choice == '3' and account:\n",
    "            amount = float(input(\"Enter amount to withdraw: \"))\n",
    "            account.withdraw(amount)\n",
    "\n",
    "        elif choice == '4' and account:\n",
    "            account.display_account_info()\n",
    "\n",
    "        elif choice == '5':\n",
    "            print(\"Thank you for using the banking system!\")\n",
    "            break\n",
    "\n",
    "        else:\n",
    "            print(\"Invalid option or no account created yet.\")\n",
    "\n",
    "if __name__ == \"__main__\":\n",
    "    main()\n"
   ]
  },
  {
   "cell_type": "code",
   "execution_count": 77,
   "id": "eb6eefb6-7e35-48cc-b92d-8daf44a8b73d",
   "metadata": {},
   "outputs": [
    {
     "name": "stdin",
     "output_type": "stream",
     "text": [
      "Enter the name of the employee Adam\n",
      "Enter the hourly wage 320\n",
      "Enter the number of hours worked 35\n"
     ]
    },
    {
     "name": "stdout",
     "output_type": "stream",
     "text": [
      "Employee: Adam | Total Salary: 11200.0\n"
     ]
    }
   ],
   "source": [
    "#9. Create a payroll system to calculate the monthly salary of employees. Use a class to store employee details such as name, hourly wage, and hours worked. Calculate overtime pay if the hours worked exceed 40 per week, with overtime wages being 1.5 times the hourly rate.\n",
    "# Payroll System application makes use of the concept of Object oriented programming, functions, control structure, dynamically typed and interactivity features of Python\n",
    "\n",
    "class Employee:\n",
    "    def __init__(self, name, hourly_wage, hours_worked):\n",
    "        self.name = name\n",
    "        self.hourly_wage = hourly_wage\n",
    "        self.hours_worked = hours_worked\n",
    "\n",
    "    def calculate_salary(self):\n",
    "        overtime_hours = max(0, self.hours_worked - 40)\n",
    "        regular_hours = self.hours_worked - overtime_hours\n",
    "        return (regular_hours * self.hourly_wage) + (overtime_hours * self.hourly_wage * 1.5)\n",
    "\n",
    "def main():\n",
    "    name = input(\"Enter the name of the employee\")\n",
    "    hourly_wage = float(input(\"Enter the hourly wage\"))\n",
    "    hours_worked = float(input(\"Enter the number of hours worked\"))\n",
    "\n",
    "    employee = Employee(name, hourly_wage, hours_worked)\n",
    "    print(f\"Employee: {employee.name} | Total Salary: {employee.calculate_salary()}\")\n",
    "\n",
    "if __name__ == \"__main__\":\n",
    "    main()\n"
   ]
  },
  {
   "cell_type": "code",
   "execution_count": null,
   "id": "889c850a-f40b-4076-8cfa-0cb320b46c5a",
   "metadata": {},
   "outputs": [],
   "source": [
    "Enter the name of the employee Alice\n",
    "Enter the hourly wage 250\n",
    "Enter the number of hours worked 56\n",
    "Employee: Alice | Total Salary: 16000.0"
   ]
  }
 ],
 "metadata": {
  "kernelspec": {
   "display_name": "Python 3 (ipykernel)",
   "language": "python",
   "name": "python3"
  },
  "language_info": {
   "codemirror_mode": {
    "name": "ipython",
    "version": 3
   },
   "file_extension": ".py",
   "mimetype": "text/x-python",
   "name": "python",
   "nbconvert_exporter": "python",
   "pygments_lexer": "ipython3",
   "version": "3.12.4"
  }
 },
 "nbformat": 4,
 "nbformat_minor": 5
}
